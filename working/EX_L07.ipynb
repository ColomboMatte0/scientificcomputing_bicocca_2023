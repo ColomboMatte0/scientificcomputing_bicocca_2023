{
 "cells": [
  {
   "cell_type": "markdown",
   "metadata": {},
   "source": [
    "## Q1: The stock market\n",
    "\n",
    "(This is about numba)\n",
    "\n",
    "A Markov Chain is defined as a sequence of random variables where a parameter depends *only* on the preceding value. This is a crucial tool in statistics, widely used in science and beyond (economics for instance).\n",
    "\n",
    "For instance, the stock market has phases of growing prices (bull), dreasing prices (bear) and recession. This would be a Markov Chain model:\n",
    "\n",
    "![](https://upload.wikimedia.org/wikipedia/commons/thumb/9/95/Finance_Markov_chain_example_state_space.svg/400px-Finance_Markov_chain_example_state_space.svg.png)\n",
    "\n",
    "where the numbers on the arrows indicate the probabily that the next day will be in a given state.\n",
    "\n",
    "Your task is to simulate the stock market according to this rule. Start from a random state and simulate many many  iterations. If your code is right, the fraction of days in each state should converge. \n",
    "\n",
    "Implement a pure-python version and a numba version, and compare speeds. \n"
   ]
  },
  {
   "cell_type": "code",
   "execution_count": 1,
   "metadata": {},
   "outputs": [
    {
     "data": {
      "application/vnd.jupyter.widget-view+json": {
       "model_id": "4ce519013f1f4acb99b98391452382ef",
       "version_major": 2,
       "version_minor": 0
      },
      "text/plain": [
       "  0%|          | 0/10000000 [00:00<?, ?it/s]"
      ]
     },
     "metadata": {},
     "output_type": "display_data"
    },
    {
     "name": "stdout",
     "output_type": "stream",
     "text": [
      "Probability of being in [Bull,Bear,Stagnant] after 10000000 iterations= [0.6248442 0.3126674 0.0624884]\n",
      "7.02 s ± 0 ns per loop (mean ± std. dev. of 1 run, 1 loop each)\n"
     ]
    }
   ],
   "source": [
    "#STANDARD VERSION NO NUMBA\n",
    "import random\n",
    "import numpy as np\n",
    "from tqdm.notebook import tqdm\n",
    "\n",
    "iterations=10**7\n",
    "\n",
    "def cycle(N_iter):\n",
    "\n",
    "    st_hist   = np.array([0,0,0])\n",
    "    rand      = np.random.random(N_iter)\n",
    "\n",
    "    Bull      = np.array([0.9,0.075,0.025])\n",
    "    Bear      = np.array([0.15,0.8,0.05])\n",
    "    Stagnant  = np.array([0.25, 0.25, 0.5])\n",
    "    state     = random.choice([Bull,Bear,Stagnant])\n",
    "\n",
    "\n",
    "    for n in tqdm(range(N_iter)): \n",
    "\n",
    "        if state[0]>=rand[n]:\n",
    "\n",
    "            state      = Bull\n",
    "            st_hist[0] += 1\n",
    "\n",
    "        elif state[1]>=rand[n]-state[0]:\n",
    "\n",
    "            state      = Bear\n",
    "            st_hist[1] += 1\n",
    "        else:\n",
    " \n",
    "            state      = Stagnant\n",
    "            st_hist[2] += 1\n",
    "\n",
    "\n",
    "    return st_hist/N_iter\n",
    "\n",
    "    \n",
    "\n",
    "%timeit -r 1 -n 1 print(f'Probability of being in [Bull,Bear,Stagnant] after {iterations} iterations=',cycle(iterations))\n"
   ]
  },
  {
   "cell_type": "code",
   "execution_count": 3,
   "metadata": {},
   "outputs": [
    {
     "data": {
      "application/vnd.jupyter.widget-view+json": {
       "model_id": "f28596a3066a4995a23b055adf4983bd",
       "version_major": 2,
       "version_minor": 0
      },
      "text/plain": [
       "  0%|          | 0/10000000 [00:00<?, ?it/s]"
      ]
     },
     "metadata": {},
     "output_type": "display_data"
    },
    {
     "name": "stdout",
     "output_type": "stream",
     "text": [
      "Probability of being in [Bull,Bear,Stagnant] after 10000000 iterations= [0.6258496 0.3118178 0.0623326]\n",
      "422 ms ± 0 ns per loop (mean ± std. dev. of 1 run, 1 loop each)\n"
     ]
    }
   ],
   "source": [
    "#NUMBA VERSION\n",
    "\n",
    "import random\n",
    "import numpy as np\n",
    "from numba import njit\n",
    "from numba_progress import ProgressBar\n",
    "\n",
    "iterations=10**7\n",
    "\n",
    "@njit(nogil=True)\n",
    "def random_choice(arr):\n",
    "    idx = np.random.randint(0, len(arr))\n",
    "    return arr[idx]\n",
    "\n",
    "@njit(nogil=True)\n",
    "def numba_cycle(N_iter,progress_proxy):\n",
    "\n",
    "    st_hist   = np.array([0,0,0])\n",
    "    rand      = np.random.random(N_iter)\n",
    "\n",
    "    Bull      = [0.9,0.075,0.025]\n",
    "    Bear      = [0.15,0.8,0.05]\n",
    "    Stagnant  = [0.25, 0.25, 0.5]\n",
    "    st_pool=[Bull,Bear,Stagnant]\n",
    "    #state     = random_choice(st_pool)\n",
    "    state=Bull\n",
    "\n",
    "    for n in range(N_iter): \n",
    "\n",
    "        if state[0]>=rand[n]:\n",
    "\n",
    "            state      = Bull\n",
    "            st_hist[0] += 1\n",
    "\n",
    "        elif state[1]>=rand[n]-state[0]:\n",
    "\n",
    "            state      = Bear\n",
    "            st_hist[1] += 1\n",
    "\n",
    "        else:\n",
    "            \n",
    "            state      = Stagnant\n",
    "            st_hist[2] += 1\n",
    "\n",
    "        progress_proxy.update(1)\n",
    "\n",
    "    return st_hist/N_iter\n",
    "\n",
    "    \n",
    "with ProgressBar(total=iterations ) as progress:\n",
    "    %timeit -r 1 -n 1 print(f'Probability of being in [Bull,Bear,Stagnant] after {iterations} iterations=',numba_cycle(iterations,progress))\n",
    "   "
   ]
  },
  {
   "cell_type": "markdown",
   "metadata": {},
   "source": [
    "## Q2: Consistent plotting\n",
    "\n",
    "(This is about python's dectorators)\n",
    "\n",
    "Write a decorator for the plots of all your papers. \n",
    "\n",
    "- Remember a decorator takes a function. \n",
    "- This function in turn should return a matplotlib figure object.\n",
    "- Before the function is called, the decorator should intialize a matplotlib figure with the options that you like the most (fontsize, ticks, etc etc)\n",
    "- After the figure it's done, the decorator should save it to pdf.\n",
    "\n",
    "This is a great hack for your papers! You do this once and for all, and all plots in your paper will be beautifill, all with the same style/fontsize/etc. All you'll need to do is adding `@myplot` to the relevant plotting functions. \n",
    "    \n",
    "The decorator that I use for my papers is available in my python module [skywalker](https://github.com/dgerosa/skywalker).  "
   ]
  },
  {
   "cell_type": "code",
   "execution_count": 4,
   "metadata": {},
   "outputs": [
    {
     "data": {
      "image/png": "[encoded data removed]",
      "text/plain": [
       "<Figure size 640x480 with 1 Axes>"
      ]
     },
     "metadata": {},
     "output_type": "display_data"
    }
   ],
   "source": [
    "\n",
    "import random\n",
    "import matplotlib\n",
    "import matplotlib.pyplot as plt\n",
    "import numpy as np\n",
    "\n",
    "\n",
    "def myplot(func):\n",
    "    def testplot_wrapper():\n",
    "        \n",
    "        matplotlib.pyplot.rcParams.update({\n",
    "                    \"text.usetex\": True,\n",
    "                    \"font.family\": \"Helvetica\"})\n",
    "        fig, axs = func()\n",
    "        axs.grid() \n",
    "        matplotlib.rcParams['figure.dpi'] = 600\n",
    "        axs.set_title(\"Simple Plot\")\n",
    "       \n",
    "    return(testplot_wrapper)\n",
    "\n",
    "@myplot\n",
    "def plot():\n",
    "    x = np.linspace(0, 2, 100)\n",
    "    fig, axs = plt.subplots() \n",
    "    axs.plot(x, x, label='linear')\n",
    "    axs.plot(x, x*x, label='linear') \n",
    "    return fig,axs\n",
    "\n",
    "plot()\n",
    "plt.show()"
   ]
  }
 ],
 "metadata": {
  "kernelspec": {
   "display_name": "base",
   "language": "python",
   "name": "python3"
  },
  "language_info": {
   "codemirror_mode": {
    "name": "ipython",
    "version": 3
   },
   "file_extension": ".py",
   "mimetype": "text/x-python",
   "name": "python",
   "nbconvert_exporter": "python",
   "pygments_lexer": "ipython3",
   "version": "3.10.13"
  }
 },
 "nbformat": 4,
 "nbformat_minor": 2
}
