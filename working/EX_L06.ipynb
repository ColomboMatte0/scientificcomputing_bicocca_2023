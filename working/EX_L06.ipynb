{
 "cells": [
  {
   "cell_type": "markdown",
   "metadata": {},
   "source": [
    "## Q1/Q2:\n",
    "modulemlem folder is under git  version control, and contains a githubaction that lets you commit only if README.md contains my name"
   ]
  }
 ],
 "metadata": {
  "language_info": {
   "name": "python"
  }
 },
 "nbformat": 4,
 "nbformat_minor": 2
}
