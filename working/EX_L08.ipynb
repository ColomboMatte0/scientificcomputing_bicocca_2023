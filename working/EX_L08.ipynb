{
 "cells": [
  {
   "cell_type": "markdown",
   "metadata": {},
   "source": [
    "## Q1/Q4:\n",
    "The module uploaded to pytest is modulemlem, where cprofile has been used to increase the speed of modulemlem/modulemlem/my_MLEM.py after profiling it i changed some user-defined function in favor of the use of skimage. the new script is modulemlem/modulemlem/ski_MLEM.py"
   ]
  }
 ],
 "metadata": {
  "language_info": {
   "name": "python"
  }
 },
 "nbformat": 4,
 "nbformat_minor": 2
}
