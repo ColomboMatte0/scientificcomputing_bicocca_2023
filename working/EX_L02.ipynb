{
 "cells": [
  {
   "cell_type": "markdown",
   "metadata": {},
   "source": [
    "## Q1: Don't type\n",
    "\n",
    "Create the array: \n",
    "```\n",
    "[[1,  6, 11],\n",
    " [2,  7, 12],\n",
    " [3,  8, 13],\n",
    " [4,  9, 14],\n",
    " [5, 10, 15]]\n",
    "```\n",
    "with out explicitly typing it in.\n",
    "\n",
    "Now create a new array containing only its 2nd and 4th rows."
   ]
  },
  {
   "cell_type": "code",
   "execution_count": 2,
   "metadata": {},
   "outputs": [
    {
     "name": "stdout",
     "output_type": "stream",
     "text": [
      "[[ 1  6 11]\n",
      " [ 2  7 12]\n",
      " [ 3  8 13]\n",
      " [ 4  9 14]\n",
      " [ 5 10 15]]\n",
      "[[ 2  7 12]\n",
      " [ 4  9 14]]\n"
     ]
    }
   ],
   "source": [
    "import numpy as np\n",
    "arr = np.arange(1,16).reshape(3,5).T\n",
    "print(arr)\n",
    "\n",
    "arr2 = np.concatenate((arr[1],arr[3])).reshape(2,3)\n",
    "print(arr2)"
   ]
  },
  {
   "cell_type": "markdown",
   "metadata": {},
   "source": [
    "## Q2: Edges\n",
    "\n",
    "Create a 2d array with `1` on the border and `0` on the inside, e.g., like:\n",
    "```\n",
    "1 1 1 1 1\n",
    "1 0 0 0 1\n",
    "1 0 0 0 1\n",
    "1 1 1 1 1\n",
    "```\n",
    "\n",
    "Do this using array slice notation to let it work for an arbitrary-sized array"
   ]
  },
  {
   "cell_type": "code",
   "execution_count": 3,
   "metadata": {},
   "outputs": [
    {
     "name": "stdout",
     "output_type": "stream",
     "text": [
      "[[1 1 1 1 1]\n",
      " [1 0 0 0 1]\n",
      " [1 0 0 0 1]\n",
      " [1 1 1 1 1]]\n"
     ]
    }
   ],
   "source": [
    "import numpy as np\n",
    "n_row=4\n",
    "n_col=5\n",
    "A=np.ones((n_row,n_col) ,dtype=int)\n",
    "A[1:n_row-1,1:n_col-1]=0\n",
    "print(A)"
   ]
  },
  {
   "cell_type": "markdown",
   "metadata": {},
   "source": [
    "## Q3: Histograms\n",
    "\n",
    "Here we will read in columns of numbers from a file and create a histogram, using NumPy routines.  Make sure you have the data file\n",
    "\"`sample.txt`\" in the same directory as this notebook (you can download it from  https://raw.githubusercontent.com/sbu-python-summer/python-tutorial/master/day-3/sample.txt\n",
    "\n",
    "  * Use `np.loadtxt()` to read this file in.  \n",
    "\n",
    "  * Next, use `np.histogram()` to create a histogram array.  The output returns both the count and an array of edges.\n",
    "  \n",
    "  * Finally, loop over the bins and print out the bin center (averaging the left and right edges of the bin) and the count for that bin."
   ]
  },
  {
   "cell_type": "code",
   "execution_count": 5,
   "metadata": {},
   "outputs": [
    {
     "name": "stdout",
     "output_type": "stream",
     "text": [
      "bin centers: [-27.12926257 -20.21093194 -13.29260131  -6.37427068   0.54405995\n",
      "   7.46239059  14.38072122  21.29905185  28.21738248  35.13571311]\n",
      "bin counts: [ 3  4  9 22 22 22  9  7  1  1]\n"
     ]
    }
   ],
   "source": [
    "import numpy as np\n",
    "sample=np.loadtxt(\"sample.txt\")\n",
    "#print(sample[:,1])\n",
    "counts,edges=np.histogram(sample[:,1])\n",
    "bin_size=edges[1]-edges[0]\n",
    "bincenter=np.array(edges[:-1]+bin_size/2)\n",
    "print(\"bin centers:\",bincenter)\n",
    "print(\"bin counts:\",counts)"
   ]
  },
  {
   "cell_type": "markdown",
   "metadata": {},
   "source": [
    "## Q6: Game of life \n",
    "run game_of_life.py file"
   ]
  }
 ],
 "metadata": {
  "kernelspec": {
   "display_name": "base",
   "language": "python",
   "name": "python3"
  },
  "language_info": {
   "codemirror_mode": {
    "name": "ipython",
    "version": 3
   },
   "file_extension": ".py",
   "mimetype": "text/x-python",
   "name": "python",
   "nbconvert_exporter": "python",
   "pygments_lexer": "ipython3",
   "version": "3.10.13"
  }
 },
 "nbformat": 4,
 "nbformat_minor": 2
}
